{
  "nbformat": 4,
  "nbformat_minor": 0,
  "metadata": {
    "colab": {
      "provenance": [],
      "authorship_tag": "ABX9TyMXAFosthPJwNXpgE14d9YK",
      "include_colab_link": true
    },
    "kernelspec": {
      "name": "python3",
      "display_name": "Python 3"
    },
    "language_info": {
      "name": "python"
    }
  },
  "cells": [
    {
      "cell_type": "markdown",
      "metadata": {
        "id": "view-in-github",
        "colab_type": "text"
      },
      "source": [
        "<a href=\"https://colab.research.google.com/github/kwsahe/Portfolio/blob/main/1%EA%B3%BC%EB%AA%A9_%EC%97%B0%EC%8A%B5ComplexDataset.ipynb\" target=\"_parent\"><img src=\"https://colab.research.google.com/assets/colab-badge.svg\" alt=\"Open In Colab\"/></a>"
      ]
    },
    {
      "cell_type": "code",
      "execution_count": null,
      "metadata": {
        "colab": {
          "base_uri": "https://localhost:8080/",
          "height": 78
        },
        "id": "2FZP71tTkSyJ",
        "outputId": "514d525d-6271-49c0-bd4f-6cbd3a6742f8"
      },
      "outputs": [
        {
          "output_type": "display_data",
          "data": {
            "text/plain": [
              "<IPython.core.display.HTML object>"
            ],
            "text/html": [
              "\n",
              "     <input type=\"file\" id=\"files-1d89907d-8ead-4f1c-9877-c3cbced48fd7\" name=\"files[]\" multiple disabled\n",
              "        style=\"border:none\" />\n",
              "     <output id=\"result-1d89907d-8ead-4f1c-9877-c3cbced48fd7\">\n",
              "      Upload widget is only available when the cell has been executed in the\n",
              "      current browser session. Please rerun this cell to enable.\n",
              "      </output>\n",
              "      <script>// Copyright 2017 Google LLC\n",
              "//\n",
              "// Licensed under the Apache License, Version 2.0 (the \"License\");\n",
              "// you may not use this file except in compliance with the License.\n",
              "// You may obtain a copy of the License at\n",
              "//\n",
              "//      http://www.apache.org/licenses/LICENSE-2.0\n",
              "//\n",
              "// Unless required by applicable law or agreed to in writing, software\n",
              "// distributed under the License is distributed on an \"AS IS\" BASIS,\n",
              "// WITHOUT WARRANTIES OR CONDITIONS OF ANY KIND, either express or implied.\n",
              "// See the License for the specific language governing permissions and\n",
              "// limitations under the License.\n",
              "\n",
              "/**\n",
              " * @fileoverview Helpers for google.colab Python module.\n",
              " */\n",
              "(function(scope) {\n",
              "function span(text, styleAttributes = {}) {\n",
              "  const element = document.createElement('span');\n",
              "  element.textContent = text;\n",
              "  for (const key of Object.keys(styleAttributes)) {\n",
              "    element.style[key] = styleAttributes[key];\n",
              "  }\n",
              "  return element;\n",
              "}\n",
              "\n",
              "// Max number of bytes which will be uploaded at a time.\n",
              "const MAX_PAYLOAD_SIZE = 100 * 1024;\n",
              "\n",
              "function _uploadFiles(inputId, outputId) {\n",
              "  const steps = uploadFilesStep(inputId, outputId);\n",
              "  const outputElement = document.getElementById(outputId);\n",
              "  // Cache steps on the outputElement to make it available for the next call\n",
              "  // to uploadFilesContinue from Python.\n",
              "  outputElement.steps = steps;\n",
              "\n",
              "  return _uploadFilesContinue(outputId);\n",
              "}\n",
              "\n",
              "// This is roughly an async generator (not supported in the browser yet),\n",
              "// where there are multiple asynchronous steps and the Python side is going\n",
              "// to poll for completion of each step.\n",
              "// This uses a Promise to block the python side on completion of each step,\n",
              "// then passes the result of the previous step as the input to the next step.\n",
              "function _uploadFilesContinue(outputId) {\n",
              "  const outputElement = document.getElementById(outputId);\n",
              "  const steps = outputElement.steps;\n",
              "\n",
              "  const next = steps.next(outputElement.lastPromiseValue);\n",
              "  return Promise.resolve(next.value.promise).then((value) => {\n",
              "    // Cache the last promise value to make it available to the next\n",
              "    // step of the generator.\n",
              "    outputElement.lastPromiseValue = value;\n",
              "    return next.value.response;\n",
              "  });\n",
              "}\n",
              "\n",
              "/**\n",
              " * Generator function which is called between each async step of the upload\n",
              " * process.\n",
              " * @param {string} inputId Element ID of the input file picker element.\n",
              " * @param {string} outputId Element ID of the output display.\n",
              " * @return {!Iterable<!Object>} Iterable of next steps.\n",
              " */\n",
              "function* uploadFilesStep(inputId, outputId) {\n",
              "  const inputElement = document.getElementById(inputId);\n",
              "  inputElement.disabled = false;\n",
              "\n",
              "  const outputElement = document.getElementById(outputId);\n",
              "  outputElement.innerHTML = '';\n",
              "\n",
              "  const pickedPromise = new Promise((resolve) => {\n",
              "    inputElement.addEventListener('change', (e) => {\n",
              "      resolve(e.target.files);\n",
              "    });\n",
              "  });\n",
              "\n",
              "  const cancel = document.createElement('button');\n",
              "  inputElement.parentElement.appendChild(cancel);\n",
              "  cancel.textContent = 'Cancel upload';\n",
              "  const cancelPromise = new Promise((resolve) => {\n",
              "    cancel.onclick = () => {\n",
              "      resolve(null);\n",
              "    };\n",
              "  });\n",
              "\n",
              "  // Wait for the user to pick the files.\n",
              "  const files = yield {\n",
              "    promise: Promise.race([pickedPromise, cancelPromise]),\n",
              "    response: {\n",
              "      action: 'starting',\n",
              "    }\n",
              "  };\n",
              "\n",
              "  cancel.remove();\n",
              "\n",
              "  // Disable the input element since further picks are not allowed.\n",
              "  inputElement.disabled = true;\n",
              "\n",
              "  if (!files) {\n",
              "    return {\n",
              "      response: {\n",
              "        action: 'complete',\n",
              "      }\n",
              "    };\n",
              "  }\n",
              "\n",
              "  for (const file of files) {\n",
              "    const li = document.createElement('li');\n",
              "    li.append(span(file.name, {fontWeight: 'bold'}));\n",
              "    li.append(span(\n",
              "        `(${file.type || 'n/a'}) - ${file.size} bytes, ` +\n",
              "        `last modified: ${\n",
              "            file.lastModifiedDate ? file.lastModifiedDate.toLocaleDateString() :\n",
              "                                    'n/a'} - `));\n",
              "    const percent = span('0% done');\n",
              "    li.appendChild(percent);\n",
              "\n",
              "    outputElement.appendChild(li);\n",
              "\n",
              "    const fileDataPromise = new Promise((resolve) => {\n",
              "      const reader = new FileReader();\n",
              "      reader.onload = (e) => {\n",
              "        resolve(e.target.result);\n",
              "      };\n",
              "      reader.readAsArrayBuffer(file);\n",
              "    });\n",
              "    // Wait for the data to be ready.\n",
              "    let fileData = yield {\n",
              "      promise: fileDataPromise,\n",
              "      response: {\n",
              "        action: 'continue',\n",
              "      }\n",
              "    };\n",
              "\n",
              "    // Use a chunked sending to avoid message size limits. See b/62115660.\n",
              "    let position = 0;\n",
              "    do {\n",
              "      const length = Math.min(fileData.byteLength - position, MAX_PAYLOAD_SIZE);\n",
              "      const chunk = new Uint8Array(fileData, position, length);\n",
              "      position += length;\n",
              "\n",
              "      const base64 = btoa(String.fromCharCode.apply(null, chunk));\n",
              "      yield {\n",
              "        response: {\n",
              "          action: 'append',\n",
              "          file: file.name,\n",
              "          data: base64,\n",
              "        },\n",
              "      };\n",
              "\n",
              "      let percentDone = fileData.byteLength === 0 ?\n",
              "          100 :\n",
              "          Math.round((position / fileData.byteLength) * 100);\n",
              "      percent.textContent = `${percentDone}% done`;\n",
              "\n",
              "    } while (position < fileData.byteLength);\n",
              "  }\n",
              "\n",
              "  // All done.\n",
              "  yield {\n",
              "    response: {\n",
              "      action: 'complete',\n",
              "    }\n",
              "  };\n",
              "}\n",
              "\n",
              "scope.google = scope.google || {};\n",
              "scope.google.colab = scope.google.colab || {};\n",
              "scope.google.colab._files = {\n",
              "  _uploadFiles,\n",
              "  _uploadFilesContinue,\n",
              "};\n",
              "})(self);\n",
              "</script> "
            ]
          },
          "metadata": {}
        },
        {
          "output_type": "stream",
          "name": "stdout",
          "text": [
            "Saving ComplexDataset.csv to ComplexDataset.csv\n"
          ]
        }
      ],
      "source": [
        "from google.colab import files\n",
        "uploaded = files.upload()"
      ]
    },
    {
      "cell_type": "code",
      "source": [
        "import pandas as pd\n",
        "df = pd.read_csv('ComplexDataset.csv')"
      ],
      "metadata": {
        "colab": {
          "base_uri": "https://localhost:8080/"
        },
        "id": "gia2xvDrk4NZ",
        "outputId": "43434458-cdab-48f3-b2f5-16dde7e277aa"
      },
      "execution_count": null,
      "outputs": [
        {
          "output_type": "stream",
          "name": "stdout",
          "text": [
            "  customer_id purchase_date  purchase_amount  category payment_method  \\\n",
            "0    CUST_001    2024-08-27            20.87  Clothing         PayPal   \n",
            "1    CUST_001    2023-02-03           264.88     Books     CreditCard   \n",
            "2    CUST_001    2023-10-28           284.86      Food     CreditCard   \n",
            "3    CUST_001    2024-04-02            75.67    Sports     CreditCard   \n",
            "4    CUST_001    2024-09-26           404.47     Books         PayPal   \n",
            "\n",
            "    feedback  \n",
            "0        Bad  \n",
            "1  Excellent  \n",
            "2       Good  \n",
            "3    Average  \n",
            "4    Average  \n"
          ]
        }
      ]
    },
    {
      "cell_type": "code",
      "source": [
        "#문제 1\n",
        "#2023년 6월에 이루어진 구매 건수는 몇 건인가?\n",
        "import pandas as pd\n",
        "df = pd.read_csv('ComplexDataset.csv')\n",
        "\n",
        "df['purchase_date'] = pd.to_datetime(df['purchase_date'])\n",
        "\n",
        "mask = (df['purchase_date'].dt.year==2023) & (df['purchase_date'].dt.month==6)\n",
        "result = df[mask].shape[0]\n",
        "print(result)"
      ],
      "metadata": {
        "colab": {
          "base_uri": "https://localhost:8080/"
        },
        "id": "zERPYt7LlIk-",
        "outputId": "459cd0de-f40f-4d22-8f7c-2d0b3e1fa04d"
      },
      "execution_count": null,
      "outputs": [
        {
          "output_type": "stream",
          "name": "stdout",
          "text": [
            "39\n"
          ]
        }
      ]
    },
    {
      "cell_type": "code",
      "source": [
        "#문제 2\n",
        "#카테고리가 \"Electronics\"이고, 결제 수단이 \"CreditCard\"인 거래의 평균 금액을 구하시오.\n",
        "import pandas as pd\n",
        "df = pd.read_csv('ComplexDataset.csv')\n",
        "\n",
        "q1 = df[(df['category']=='Electronics') & (df['payment_method']=='CreditCard')]\n",
        "result = q1['purchase_amount'].mean()\n",
        "print(round(result, 3))"
      ],
      "metadata": {
        "colab": {
          "base_uri": "https://localhost:8080/"
        },
        "id": "ufRSn-dTOlNZ",
        "outputId": "14a120bb-99a2-4ad6-85d4-054b3d76c871"
      },
      "execution_count": null,
      "outputs": [
        {
          "output_type": "stream",
          "name": "stdout",
          "text": [
            "238.499\n"
          ]
        }
      ]
    },
    {
      "cell_type": "code",
      "source": [
        "# 문제 3\n",
        "#2024년 한 해 동안 고객별 구매 횟수를 집계하고, 가장 많이 구매한 고객 ID와 횟수를 구하시오.\n",
        "import pandas as pd\n",
        "df = pd.read_csv('ComplexDataset.csv')\n",
        "\n",
        "df['purchase_date'] = pd.to_datetime(df['purchase_date'])\n",
        "mask = df['purchase_date'].dt.year==2024\n",
        "q1 = df[mask]\n",
        "result = q1.groupby('customer_id').size().sort_values(ascending=False)\n",
        "print(result)"
      ],
      "metadata": {
        "colab": {
          "base_uri": "https://localhost:8080/"
        },
        "id": "qoSGgEP_QXnR",
        "outputId": "409447c4-7d38-421b-bfdb-ce6adb3d39d1"
      },
      "execution_count": null,
      "outputs": [
        {
          "output_type": "stream",
          "name": "stdout",
          "text": [
            "customer_id\n",
            "CUST_005    18\n",
            "CUST_028    18\n",
            "CUST_040    17\n",
            "CUST_003    16\n",
            "CUST_010    15\n",
            "CUST_024    15\n",
            "CUST_022    14\n",
            "CUST_039    13\n",
            "CUST_049    13\n",
            "CUST_002    12\n",
            "CUST_011    12\n",
            "CUST_031    12\n",
            "CUST_009    12\n",
            "CUST_021    11\n",
            "CUST_007    11\n",
            "CUST_033    10\n",
            "CUST_032    10\n",
            "CUST_014     9\n",
            "CUST_042     9\n",
            "CUST_016     9\n",
            "CUST_027     9\n",
            "CUST_045     9\n",
            "CUST_035     9\n",
            "CUST_044     9\n",
            "CUST_047     9\n",
            "CUST_019     9\n",
            "CUST_001     8\n",
            "CUST_048     8\n",
            "CUST_038     8\n",
            "CUST_036     8\n",
            "CUST_030     8\n",
            "CUST_004     7\n",
            "CUST_008     7\n",
            "CUST_015     7\n",
            "CUST_041     7\n",
            "CUST_037     7\n",
            "CUST_034     7\n",
            "CUST_029     7\n",
            "CUST_013     7\n",
            "CUST_023     7\n",
            "CUST_020     7\n",
            "CUST_006     6\n",
            "CUST_046     6\n",
            "CUST_026     6\n",
            "CUST_017     6\n",
            "CUST_050     5\n",
            "CUST_018     4\n",
            "CUST_012     4\n",
            "CUST_043     4\n",
            "CUST_025     3\n",
            "dtype: int64\n"
          ]
        }
      ]
    },
    {
      "cell_type": "code",
      "source": [
        "# 문제 4\n",
        "#고객 피드백(feedback) 컬럼에서 \"Good\" 또는 \"Excellent\" 비율(%)을 구하시오.\n",
        "import pandas as pd\n",
        "df = pd.read_csv('ComplexDataset.csv')\n",
        "\n",
        "G = (df['feedback']=='Good').sum()\n",
        "E = (df['feedback']=='Excellent').sum()\n",
        "A = len(df)\n",
        "result_G = G / A\n",
        "result_E = E / A\n",
        "\n",
        "print(result_G, result_E)"
      ],
      "metadata": {
        "colab": {
          "base_uri": "https://localhost:8080/"
        },
        "id": "pgtu-ohnQpS3",
        "outputId": "44b875a1-616e-4ff6-971d-7a1f1ed11e58"
      },
      "execution_count": null,
      "outputs": [
        {
          "output_type": "stream",
          "name": "stdout",
          "text": [
            "0.17659352142110762 0.19017763845350052\n"
          ]
        }
      ]
    },
    {
      "cell_type": "markdown",
      "source": [
        "**📘 Pandas count, sum, size 차이**\n",
        "| 함수          | 적용 대상             | 의미                | 특징                                                   | 외우기 팁                   |\n",
        "| ----------- | ----------------- | ----------------- | ---------------------------------------------------- | ----------------------- |\n",
        "| **count()** | Series/DataFrame  | **NaN 제외한 값의 개수** | Boolean Series에 쓰면 `True/False` 구분 안 하고 전체 개수를 반환    | **“결측 제외 개수”**          |\n",
        "| **sum()**   | Series/DataFrame  | **합계**            | Boolean Series에 쓰면 `True=1, False=0`으로 처리 → 조건 만족 개수 | **“덧셈 (조건 충족 개수도 가능)”** |\n",
        "| **size**    | DataFrame/GroupBy | **전체 행 개수**       | NaN 포함해서 그냥 “총 개수” 반환                                | **“사이즈=전체 길이”**         |\n"
      ],
      "metadata": {
        "id": "Fd8Jr7JpVCXJ"
      }
    },
    {
      "cell_type": "code",
      "source": [
        "import pandas as pd\n",
        "\n",
        "df = pd.DataFrame({\n",
        "    \"A\": [1, 2, None, 4],\n",
        "    \"B\": [\"x\", \"y\", \"z\", None]\n",
        "})\n",
        "\n",
        "print(\"count:\\n\", df.count())   # NaN 제외\n",
        "print(\"sum:\\n\", df[\"A\"].sum())  # 숫자 합계\n",
        "print(\"조건 sum:\", (df[\"B\"]==\"x\").sum()) # 조건 만족 개수\n",
        "print(\"size:\", df.size)         # 전체 원소 개수 (행×열)\n",
        "print(\"len(df):\", len(df))      # 전체 행 개수"
      ],
      "metadata": {
        "colab": {
          "base_uri": "https://localhost:8080/"
        },
        "id": "fXGdVBYfVJMD",
        "outputId": "5f6d85bb-5ec7-4d10-c615-e63237937dd9"
      },
      "execution_count": null,
      "outputs": [
        {
          "output_type": "stream",
          "name": "stdout",
          "text": [
            "count:\n",
            " A    3\n",
            "B    3\n",
            "dtype: int64\n",
            "sum:\n",
            " 7.0\n",
            "조건 sum: 1\n",
            "size: 8\n",
            "len(df): 4\n"
          ]
        }
      ]
    },
    {
      "cell_type": "code",
      "source": [
        "# 문제 5\n",
        "#각 카테고리(category)별로 2023년과 2024년 구매 금액 합계를 구하고, **연도별 증가율(%)**을 계산하시오.\n",
        "import pandas as pd\n",
        "df = pd.read_csv('ComplexDataset.csv')\n",
        "\n",
        "df['purchase_date'] = pd.to_datetime(df['purchase_date'])\n",
        "df23 = df[df['purchase_date'].dt.year==2023]\n",
        "df24 = df[df['purchase_date'].dt.year==2024]\n",
        "\n",
        "group23 = df23.groupby('category')['purchase_amount'].sum()\n",
        "group24 = df24.groupby('category')['purchase_amount'].sum()\n",
        "\n",
        "df_compare = pd.concat([group23, group24], axis=1, keys=['2023', '2024']).fillna(0)\n",
        "\n",
        "growth_rate = ((group24-group23) / group23) * 100\n",
        "print(growth_rate)\n",
        "print(df_compare)"
      ],
      "metadata": {
        "id": "PsB63KcIQs1g",
        "colab": {
          "base_uri": "https://localhost:8080/"
        },
        "outputId": "c327edf5-436c-44b5-d468-7fc773dec620"
      },
      "execution_count": null,
      "outputs": [
        {
          "output_type": "stream",
          "name": "stdout",
          "text": [
            "category\n",
            "Books          20.970037\n",
            "Clothing      -10.689718\n",
            "Electronics   -12.706839\n",
            "Food          -23.387299\n",
            "Sports          4.567694\n",
            "Name: purchase_amount, dtype: float64\n",
            "                 2023      2024\n",
            "category                       \n",
            "Books        23814.36  28808.24\n",
            "Clothing     25220.31  22524.33\n",
            "Electronics  23382.29  20411.14\n",
            "Food         28543.10  21867.64\n",
            "Sports       23581.92  24659.07\n"
          ]
        }
      ]
    },
    {
      "cell_type": "code",
      "source": [
        "#문제 6\n",
        "#2023년 7월에 \"Clothing\" 카테고리를 2번 이상 구매한 고객 ID를 모두 구하시오.\n",
        "import pandas as pd\n",
        "df = pd.read_csv('ComplexDataset.csv')\n",
        "\n",
        "df['purchase_date'] = pd.to_datetime(df['purchase_date'])\n",
        "mask = (df['purchase_date'].dt.year==2023) & (df['purchase_date'].dt.month==7) & (df['category']=='Clothing')\n",
        "df1 = df[mask][['customer_id', 'category']]\n",
        "print(df1)\n",
        "\n",
        "print('\\n\\n')\n",
        "\n",
        "counts = df1.groupby('customer_id').size().reset_index(name='count')\n",
        "result = counts[counts['count']>=1]\n",
        "print(result)"
      ],
      "metadata": {
        "colab": {
          "base_uri": "https://localhost:8080/"
        },
        "id": "Gm7T4J6mMquV",
        "outputId": "8b523343-7766-40d0-f631-6924f0d7c173"
      },
      "execution_count": null,
      "outputs": [
        {
          "output_type": "stream",
          "name": "stdout",
          "text": [
            "    customer_id  category\n",
            "19     CUST_002  Clothing\n",
            "48     CUST_003  Clothing\n",
            "540    CUST_028  Clothing\n",
            "603    CUST_031  Clothing\n",
            "807    CUST_042  Clothing\n",
            "884    CUST_047  Clothing\n",
            "915    CUST_048  Clothing\n",
            "\n",
            "\n",
            "\n",
            "  customer_id  count\n",
            "0    CUST_002      1\n",
            "1    CUST_003      1\n",
            "2    CUST_028      1\n",
            "3    CUST_031      1\n",
            "4    CUST_042      1\n",
            "5    CUST_047      1\n",
            "6    CUST_048      1\n"
          ]
        }
      ]
    },
    {
      "cell_type": "code",
      "source": [
        "# 문제 7\n",
        "#고객 피드백(feedback)에서 \"Bad\" 또는 \"Poor\"가 전체 구매의 20% 이상을 차지하는 고객 ID와 그 비율을 구하시오.\n",
        "import pandas as pd\n",
        "df = pd.read_csv('ComplexDataset.csv')\n",
        "\n",
        "df_bp = df[(df['feedback']=='Bad') | (df['feedback']=='Poor')]\n",
        "#df_bp = df[df['feedback'].isin(['Bad', 'Poor'])]\n",
        "df_bp_gp = df_bp.groupby('customer_id')['purchase_amount'].sum()\n",
        "#print(df_bp_gp)\n",
        "\n",
        "df_all = df.groupby('customer_id')['purchase_amount'].sum()\n",
        "df_compare = pd.concat([df_bp_gp, df_all], axis=1, keys=['bad&poor', 'all']).fillna(0)\n",
        "\n",
        "df_compare['ratio(%)'] = (df_compare['bad&poor'] / df_compare['all']) * 100\n",
        "result = df_compare[df_compare['ratio(%)']>=20]\n",
        "print(result)"
      ],
      "metadata": {
        "colab": {
          "base_uri": "https://localhost:8080/"
        },
        "id": "nCNto-OqTxOs",
        "outputId": "6ff526f2-d427-47f7-bc3d-bd4886390e5f"
      },
      "execution_count": null,
      "outputs": [
        {
          "output_type": "stream",
          "name": "stdout",
          "text": [
            "             bad&poor      all   ratio(%)\n",
            "customer_id                              \n",
            "CUST_001      1101.25  3582.61  30.738763\n",
            "CUST_002      4696.47  8030.26  58.484657\n",
            "CUST_003      3805.63  7362.92  51.686423\n",
            "CUST_004      3067.22  4714.41  65.060527\n",
            "CUST_005      2163.82  7128.91  30.352747\n",
            "CUST_006      1003.70  3150.46  31.858840\n",
            "CUST_007      1979.05  7039.43  28.113782\n",
            "CUST_008       927.39  3118.36  29.739671\n",
            "CUST_010      2431.22  5864.65  41.455500\n",
            "CUST_011      2407.37  6366.15  37.815163\n",
            "CUST_012      1630.47  3031.79  53.779121\n",
            "CUST_013      2427.29  4892.90  49.608412\n",
            "CUST_014      3066.93  4351.46  70.480482\n",
            "CUST_015      1546.90  4379.68  35.319932\n",
            "CUST_016      2014.43  4125.13  48.833128\n",
            "CUST_018      2876.50  4595.03  62.600244\n",
            "CUST_019      1587.11  4039.00  39.294627\n",
            "CUST_020      1050.56  2915.05  36.039176\n",
            "CUST_021      2226.93  4955.34  44.940004\n",
            "CUST_022      1398.03  5073.92  27.553253\n",
            "CUST_023      1373.59  3267.89  42.032933\n",
            "CUST_024      3578.85  6625.75  54.014263\n",
            "CUST_025      1479.06  2931.40  50.455755\n",
            "CUST_026      2491.67  4644.77  53.644637\n",
            "CUST_028      3167.70  6790.78  46.647071\n",
            "CUST_029      1280.31  2134.99  59.967962\n",
            "CUST_030      1198.85  5672.15  21.135725\n",
            "CUST_031      2620.43  7166.50  36.564990\n",
            "CUST_033      2060.43  3318.39  62.091255\n",
            "CUST_034      1420.16  3402.91  41.733693\n",
            "CUST_035      1001.64  3610.66  27.741189\n",
            "CUST_036      1799.44  5088.83  35.360584\n",
            "CUST_037      1867.50  4294.09  43.490006\n",
            "CUST_038      2373.43  7120.05  33.334457\n",
            "CUST_039      1548.71  4038.94  38.344467\n",
            "CUST_040      3329.22  7026.60  47.380241\n",
            "CUST_041      1259.66  3557.02  35.413352\n",
            "CUST_042      2924.24  7524.98  38.860436\n",
            "CUST_043      1154.73  3153.82  36.613694\n",
            "CUST_044      2159.47  4513.96  47.839812\n",
            "CUST_045      1679.39  4598.29  36.522055\n",
            "CUST_046      2047.47  4358.12  46.980579\n",
            "CUST_047      2165.86  4976.63  43.520615\n",
            "CUST_048      2985.85  6167.69  48.411156\n",
            "CUST_049      2923.39  5864.94  49.845182\n",
            "CUST_050      1193.58  2760.80  43.233121\n"
          ]
        }
      ]
    },
    {
      "cell_type": "code",
      "source": [
        "# 문제 8\n",
        "#결제 수단이 \"PayPal\"인 경우만 대상으로,\n",
        "#월별 평균 구매 금액을 계산하고, 그 중 평균이 가장 높은 달을 구하시오.\n",
        "import pandas as pd\n",
        "df = pd.read_csv('ComplexDataset.csv')\n",
        "\n",
        "df['purchase_date'] = pd.to_datetime(df['purchase_date'])\n",
        "df['month'] = df['purchase_date'].dt.month\n",
        "df1 = df[df['payment_method']=='PayPal']\n",
        "\n",
        "result = df1.groupby('month')['purchase_amount'].mean().sort_values(ascending=False)\n",
        "print(result)\n"
      ],
      "metadata": {
        "colab": {
          "base_uri": "https://localhost:8080/"
        },
        "id": "T7D28Ub2XnFe",
        "outputId": "cbb1de7c-676f-4cb3-97dd-c66fd57325a7"
      },
      "execution_count": null,
      "outputs": [
        {
          "output_type": "stream",
          "name": "stdout",
          "text": [
            "month\n",
            "3     306.595385\n",
            "5     290.344167\n",
            "9     281.807368\n",
            "6     266.154375\n",
            "1     264.100000\n",
            "12    258.912105\n",
            "11    249.697273\n",
            "4     241.986842\n",
            "7     237.224762\n",
            "2     235.072500\n",
            "10    229.121304\n",
            "8     223.675000\n",
            "Name: purchase_amount, dtype: float64\n"
          ]
        }
      ]
    },
    {
      "cell_type": "code",
      "source": [
        "# 문제 9\n",
        "#구매 금액(purchase_amount) 상위 10%에 해당하는 거래만 모아서,\n",
        "#**카테고리별 비율(%)**을 구하시오.\n",
        "import pandas as pd\n",
        "df = pd.read_csv('ComplexDataset.csv')\n",
        "\n",
        "df = df.sort_values(by='purchase_amount', ascending=False)\n",
        "df_len = len(df)\n",
        "df_10len = round(df_len * 0.1)\n",
        "\n",
        "df_top10 = df.head(df_10len)\n",
        "#print(df_top10)\n",
        "\n",
        "category_ratio = (df_top10['category'].value_counts(normalize=True)*100).round(2)\n",
        "print(category_ratio)\n"
      ],
      "metadata": {
        "colab": {
          "base_uri": "https://localhost:8080/"
        },
        "id": "0KEsWh5dZNSg",
        "outputId": "aebddba9-60bd-4050-c3af-523519d9a825"
      },
      "execution_count": null,
      "outputs": [
        {
          "output_type": "stream",
          "name": "stdout",
          "text": [
            "category\n",
            "Books          28.12\n",
            "Food           20.83\n",
            "Sports         18.75\n",
            "Clothing       17.71\n",
            "Electronics    14.58\n",
            "Name: proportion, dtype: float64\n"
          ]
        }
      ]
    },
    {
      "cell_type": "code",
      "source": [
        "# 문제 10\n",
        "#2023년과 2024년을 비교하여,\n",
        "#모든 고객별로 “Electronics” 카테고리 구매 총액 증가율을 계산하고,\n",
        "#가장 큰 증가율을 기록한 고객 ID를 출력하시오.\n",
        "import pandas as pd\n",
        "df = pd.read_csv('ComplexDataset.csv')\n",
        "\n",
        "df['purchase_date'] = pd.to_datetime(df['purchase_date'])\n",
        "df['year'] = df['purchase_date'].dt.year\n",
        "df = df[df['category']=='Electronics']\n",
        "\n",
        "df_23 = df[df['year']==2023]\n",
        "q23 = df_23.groupby('customer_id')['purchase_amount'].sum()\n",
        "\n",
        "df_24 = df[df['year']==2024]\n",
        "q24 = df_24.groupby('customer_id')['purchase_amount'].sum()\n",
        "\n",
        "df_compare = pd.concat([q23, q24], axis=1, keys=['2023', '2024']).fillna(0)\n",
        "\n",
        "df_compare['ratio'] = ((df_compare['2024'] - df_compare['2023']) / df_compare['2023']) * 100\n",
        "top_customer = df_compare['ratio'].idxmax()\n",
        "top_value = df_compare['ratio'].max()\n",
        "\n",
        "print(\"증가율이 가장 높은 고객:\", top_customer)\n",
        "print(df_compare)"
      ],
      "metadata": {
        "colab": {
          "base_uri": "https://localhost:8080/"
        },
        "id": "-ZS2rrfEfuLp",
        "outputId": "a20a5807-64b3-416b-b9d7-fc847efbd992"
      },
      "execution_count": null,
      "outputs": [
        {
          "output_type": "stream",
          "name": "stdout",
          "text": [
            "증가율이 가장 높은 고객: CUST_025\n",
            "                2023     2024        ratio\n",
            "customer_id                               \n",
            "CUST_001      227.82     0.00  -100.000000\n",
            "CUST_002     1367.16   452.73   -66.885368\n",
            "CUST_003      604.96   795.98    31.575641\n",
            "CUST_004      166.95     0.00  -100.000000\n",
            "CUST_005      646.10  1276.21    97.525151\n",
            "CUST_006      512.46     0.00  -100.000000\n",
            "CUST_007      676.59   544.16   -19.573154\n",
            "CUST_008      773.62     0.00  -100.000000\n",
            "CUST_009      412.66   879.36   113.095527\n",
            "CUST_010      427.66    83.20   -80.545293\n",
            "CUST_011      398.38   426.17     6.975752\n",
            "CUST_012     1260.89   196.16   -84.442735\n",
            "CUST_013      124.45     0.00  -100.000000\n",
            "CUST_014      203.90   224.15     9.931339\n",
            "CUST_015      299.71   768.99   156.578025\n",
            "CUST_016      775.00   743.98    -4.002581\n",
            "CUST_017      424.92   338.88   -20.248517\n",
            "CUST_018      233.31   401.29    71.998628\n",
            "CUST_019      455.98   549.66    20.544761\n",
            "CUST_020      385.65   515.09    33.564113\n",
            "CUST_021      658.34    12.98   -98.028374\n",
            "CUST_022      381.46   200.30   -47.491218\n",
            "CUST_023      691.56   566.84   -18.034588\n",
            "CUST_024      381.46  1468.14   284.873906\n",
            "CUST_026     1667.37    27.15   -98.371687\n",
            "CUST_027      196.18     0.00  -100.000000\n",
            "CUST_028      280.32   474.72    69.349315\n",
            "CUST_029      707.66     0.00  -100.000000\n",
            "CUST_030      503.17     0.00  -100.000000\n",
            "CUST_031      836.82   758.18    -9.397481\n",
            "CUST_033       89.93   329.73   266.651840\n",
            "CUST_035      379.75   327.32   -13.806452\n",
            "CUST_036      798.64     0.00  -100.000000\n",
            "CUST_037      429.81    77.70   -81.922245\n",
            "CUST_038      390.67   698.27    78.736530\n",
            "CUST_039      182.77   682.83   273.600700\n",
            "CUST_040       28.43   667.92  2249.349279\n",
            "CUST_041      282.04   489.43    73.532123\n",
            "CUST_042      283.77   694.29   144.666455\n",
            "CUST_044      199.68   147.49   -26.136819\n",
            "CUST_045      691.25   528.68   -23.518264\n",
            "CUST_046     1486.23   665.03   -55.253897\n",
            "CUST_047      176.58    22.76   -87.110658\n",
            "CUST_048      179.88   674.91   275.200133\n",
            "CUST_049      784.99   591.12   -24.697130\n",
            "CUST_050      315.36   953.98   202.505074\n",
            "CUST_025        0.00   376.82          inf\n",
            "CUST_032        0.00   340.09          inf\n",
            "CUST_043        0.00   438.45          inf\n"
          ]
        }
      ]
    }
  ]
}